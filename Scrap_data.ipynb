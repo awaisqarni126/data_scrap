{
 "cells": [
  {
   "cell_type": "markdown",
   "id": "27b8c42f",
   "metadata": {},
   "source": [
    "# Extract Data through selenium"
   ]
  },
  {
   "cell_type": "code",
   "execution_count": 1,
   "id": "163691c3",
   "metadata": {},
   "outputs": [
    {
     "name": "stdout",
     "output_type": "stream",
     "text": [
      "Requirement already satisfied: selenium in c:\\programdata\\anaconda3\\lib\\site-packages (4.2.0)\n",
      "Requirement already satisfied: trio~=0.17 in c:\\programdata\\anaconda3\\lib\\site-packages (from selenium) (0.20.0)\n",
      "Requirement already satisfied: trio-websocket~=0.9 in c:\\programdata\\anaconda3\\lib\\site-packages (from selenium) (0.9.2)\n",
      "Requirement already satisfied: urllib3[secure,socks]~=1.26 in c:\\programdata\\anaconda3\\lib\\site-packages (from selenium) (1.26.7)\n",
      "Requirement already satisfied: outcome in c:\\programdata\\anaconda3\\lib\\site-packages (from trio~=0.17->selenium) (1.1.0)\n",
      "Requirement already satisfied: attrs>=19.2.0 in c:\\programdata\\anaconda3\\lib\\site-packages (from trio~=0.17->selenium) (21.2.0)\n",
      "Requirement already satisfied: sortedcontainers in c:\\programdata\\anaconda3\\lib\\site-packages (from trio~=0.17->selenium) (2.4.0)\n",
      "Requirement already satisfied: idna in c:\\programdata\\anaconda3\\lib\\site-packages (from trio~=0.17->selenium) (3.2)\n",
      "Requirement already satisfied: cffi>=1.14 in c:\\programdata\\anaconda3\\lib\\site-packages (from trio~=0.17->selenium) (1.14.6)\n",
      "Requirement already satisfied: sniffio in c:\\programdata\\anaconda3\\lib\\site-packages (from trio~=0.17->selenium) (1.2.0)\n",
      "Requirement already satisfied: async-generator>=1.9 in c:\\programdata\\anaconda3\\lib\\site-packages (from trio~=0.17->selenium) (1.10)\n",
      "Requirement already satisfied: pycparser in c:\\programdata\\anaconda3\\lib\\site-packages (from cffi>=1.14->trio~=0.17->selenium) (2.20)\n",
      "Requirement already satisfied: wsproto>=0.14 in c:\\programdata\\anaconda3\\lib\\site-packages (from trio-websocket~=0.9->selenium) (1.1.0)\n",
      "Requirement already satisfied: pyOpenSSL>=0.14 in c:\\programdata\\anaconda3\\lib\\site-packages (from urllib3[secure,socks]~=1.26->selenium) (21.0.0)\n",
      "Requirement already satisfied: cryptography>=1.3.4 in c:\\programdata\\anaconda3\\lib\\site-packages (from urllib3[secure,socks]~=1.26->selenium) (3.4.8)\n",
      "Requirement already satisfied: certifi in c:\\programdata\\anaconda3\\lib\\site-packages (from urllib3[secure,socks]~=1.26->selenium) (2021.10.8)\n",
      "Requirement already satisfied: PySocks!=1.5.7,<2.0,>=1.5.6 in c:\\programdata\\anaconda3\\lib\\site-packages (from urllib3[secure,socks]~=1.26->selenium) (1.7.1)\n",
      "Requirement already satisfied: six>=1.5.2 in c:\\programdata\\anaconda3\\lib\\site-packages (from pyOpenSSL>=0.14->urllib3[secure,socks]~=1.26->selenium) (1.16.0)\n",
      "Requirement already satisfied: h11<1,>=0.9.0 in c:\\programdata\\anaconda3\\lib\\site-packages (from wsproto>=0.14->trio-websocket~=0.9->selenium) (0.13.0)\n"
     ]
    },
    {
     "name": "stderr",
     "output_type": "stream",
     "text": [
      "WARNING: Ignoring invalid distribution -rkupsafe (c:\\programdata\\anaconda3\\lib\\site-packages)\n",
      "WARNING: Ignoring invalid distribution -rllib3 (c:\\programdata\\anaconda3\\lib\\site-packages)\n",
      "WARNING: Ignoring invalid distribution - (c:\\programdata\\anaconda3\\lib\\site-packages)\n",
      "WARNING: Ignoring invalid distribution -equests (c:\\programdata\\anaconda3\\lib\\site-packages)\n",
      "WARNING: Ignoring invalid distribution -arkupsafe (c:\\programdata\\anaconda3\\lib\\site-packages)\n",
      "WARNING: Ignoring invalid distribution -rkupsafe (c:\\programdata\\anaconda3\\lib\\site-packages)\n",
      "WARNING: Ignoring invalid distribution -rllib3 (c:\\programdata\\anaconda3\\lib\\site-packages)\n",
      "WARNING: Ignoring invalid distribution - (c:\\programdata\\anaconda3\\lib\\site-packages)\n",
      "WARNING: Ignoring invalid distribution -equests (c:\\programdata\\anaconda3\\lib\\site-packages)\n",
      "WARNING: Ignoring invalid distribution -arkupsafe (c:\\programdata\\anaconda3\\lib\\site-packages)\n",
      "WARNING: Ignoring invalid distribution -rkupsafe (c:\\programdata\\anaconda3\\lib\\site-packages)\n",
      "WARNING: Ignoring invalid distribution -rllib3 (c:\\programdata\\anaconda3\\lib\\site-packages)\n",
      "WARNING: Ignoring invalid distribution - (c:\\programdata\\anaconda3\\lib\\site-packages)\n",
      "WARNING: Ignoring invalid distribution -equests (c:\\programdata\\anaconda3\\lib\\site-packages)\n",
      "WARNING: Ignoring invalid distribution -arkupsafe (c:\\programdata\\anaconda3\\lib\\site-packages)\n",
      "WARNING: Ignoring invalid distribution -rkupsafe (c:\\programdata\\anaconda3\\lib\\site-packages)\n",
      "WARNING: Ignoring invalid distribution -rllib3 (c:\\programdata\\anaconda3\\lib\\site-packages)\n",
      "WARNING: Ignoring invalid distribution - (c:\\programdata\\anaconda3\\lib\\site-packages)\n",
      "WARNING: Ignoring invalid distribution -equests (c:\\programdata\\anaconda3\\lib\\site-packages)\n",
      "WARNING: Ignoring invalid distribution -arkupsafe (c:\\programdata\\anaconda3\\lib\\site-packages)\n",
      "WARNING: Ignoring invalid distribution -rkupsafe (c:\\programdata\\anaconda3\\lib\\site-packages)\n",
      "WARNING: Ignoring invalid distribution -rllib3 (c:\\programdata\\anaconda3\\lib\\site-packages)\n",
      "WARNING: Ignoring invalid distribution - (c:\\programdata\\anaconda3\\lib\\site-packages)\n",
      "WARNING: Ignoring invalid distribution -equests (c:\\programdata\\anaconda3\\lib\\site-packages)\n",
      "WARNING: Ignoring invalid distribution -arkupsafe (c:\\programdata\\anaconda3\\lib\\site-packages)\n",
      "WARNING: Ignoring invalid distribution -rkupsafe (c:\\programdata\\anaconda3\\lib\\site-packages)\n",
      "WARNING: Ignoring invalid distribution -rllib3 (c:\\programdata\\anaconda3\\lib\\site-packages)\n",
      "WARNING: Ignoring invalid distribution - (c:\\programdata\\anaconda3\\lib\\site-packages)\n",
      "WARNING: Ignoring invalid distribution -equests (c:\\programdata\\anaconda3\\lib\\site-packages)\n",
      "WARNING: Ignoring invalid distribution -arkupsafe (c:\\programdata\\anaconda3\\lib\\site-packages)\n"
     ]
    }
   ],
   "source": [
    "!pip install selenium"
   ]
  },
  {
   "cell_type": "markdown",
   "id": "da977521",
   "metadata": {},
   "source": [
    "We'll need to get browser-driver after we've installed Selenium. Please go to https://www.selenium.dev/documentation/webdriver/getting to download."
   ]
  },
  {
   "cell_type": "code",
   "execution_count": 2,
   "id": "fed51ce1",
   "metadata": {},
   "outputs": [],
   "source": [
    "#importing libray\n",
    "from selenium import webdriver\n",
    "from selenium.webdriver.common.keys import Keys\n",
    "from selenium.webdriver.chrome.options import Options\n",
    "from selenium.webdriver.common.by import By"
   ]
  },
  {
   "cell_type": "code",
   "execution_count": 3,
   "id": "8e638e64",
   "metadata": {},
   "outputs": [],
   "source": [
    "#editing the arguments\n",
    "options = Options()\n",
    "options.add_argument(\"--no-sandbox\")\n",
    "options.add_argument(\"--disable-setuid-sandbox\")"
   ]
  },
  {
   "cell_type": "code",
   "execution_count": 5,
   "id": "6efb85a1",
   "metadata": {},
   "outputs": [
    {
     "name": "stderr",
     "output_type": "stream",
     "text": [
      "C:\\Users\\DiveDeep\\AppData\\Local\\Temp/ipykernel_12364/2984187703.py:4: DeprecationWarning: executable_path has been deprecated, please pass in a Service object\n",
      "  driver = webdriver.Chrome('chromedriver.exe',chrome_options = options)\n",
      "C:\\Users\\DiveDeep\\AppData\\Local\\Temp/ipykernel_12364/2984187703.py:4: DeprecationWarning: use options instead of chrome_options\n",
      "  driver = webdriver.Chrome('chromedriver.exe',chrome_options = options)\n"
     ]
    }
   ],
   "source": [
    "#giving the path of browser-driver Please make sure your browser's version and driver are compatible.\n",
    "#I am using Chrome Version 102.0.5005.63 and my driver Version is 102.0.5005.61\n",
    "#For other version plz visit https://chromedriver.chromium.org/downloads/version-selection\n",
    "driver = webdriver.Chrome('chromedriver.exe',chrome_options = options)\n",
    "driver.get(\"https://caitlinwilson.com/products/cw-premium-rug-pad\")"
   ]
  },
  {
   "cell_type": "code",
   "execution_count": 6,
   "id": "3e2e09d5",
   "metadata": {},
   "outputs": [
    {
     "name": "stdout",
     "output_type": "stream",
     "text": [
      "Product Title :  CW Premium Rug Pad\n",
      "Product Url :  https://caitlinwilson.com/products/cw-premium-rug-pad\n"
     ]
    }
   ],
   "source": [
    "print(\"Product Title : \",driver.title)\n",
    "print(\"Product Url : \",driver.current_url)"
   ]
  },
  {
   "cell_type": "code",
   "execution_count": 7,
   "id": "3436acd9",
   "metadata": {},
   "outputs": [],
   "source": [
    "#Removing subscription popup form by click().\n",
    "driver.find_elements(By.CLASS_NAME, \"needsclick\")[6].click()"
   ]
  },
  {
   "cell_type": "code",
   "execution_count": 10,
   "id": "3b4a0495",
   "metadata": {},
   "outputs": [
    {
     "name": "stdout",
     "output_type": "stream",
     "text": [
      "Element has 7 number of sizes\n",
      "Total product on this page :  1\n"
     ]
    }
   ],
   "source": [
    "#Counting totall product with differnt sizes\n",
    "from bs4 import BeautifulSoup\n",
    "swatch_count = 0\n",
    "swatch_elements = 0\n",
    "size_list=[]\n",
    "soup = BeautifulSoup(driver.page_source, \"html.parser\")\n",
    "for i in soup.find_all(class_=\"swatch\"):\n",
    "    swatch_count = swatch_count + 1\n",
    "    for k in i.find_all(\"div\", class_=\"swatch-element\"):\n",
    "        size_list.append(k.text)\n",
    "        swatch_elements = swatch_elements + 1\n",
    "    print(f\"Element has {swatch_elements} number of sizes\" )\n",
    "print(\"Total product on this page : \", swatch_count)"
   ]
  },
  {
   "cell_type": "code",
   "execution_count": 12,
   "id": "5177366c",
   "metadata": {},
   "outputs": [
    {
     "name": "stdout",
     "output_type": "stream",
     "text": [
      "Price for size:\n",
      "\n",
      "2'x3'\n",
      " is \n",
      "                    $25.00\n",
      "                \n",
      "Price for size:\n",
      "\n",
      "3'x5'\n",
      " is $42.00\n",
      "Price for size:\n",
      "\n",
      "3'x7'\n",
      " is $58.00\n",
      "Price for size:\n",
      "\n",
      "4'x6'\n",
      " is $58.00\n",
      "Price for size:\n",
      "\n",
      "5'x7'\n",
      " is $75.00\n",
      "Price for size:\n",
      "\n",
      "8'x10'\n",
      " is $150.00\n",
      "Price for size:\n",
      "\n",
      "9'x12'\n",
      " is $198.00\n"
     ]
    }
   ],
   "source": [
    "#you may get some error because of slow internet or less processing speed \n",
    "#if you get some error plz try to increase sleep time and try obviously is also here for your help.\n",
    "import time\n",
    "for i in range(0,swatch_elements):\n",
    "    ele = driver.find_elements(By.CLASS_NAME,\"swatch-element\")[i]\n",
    "    time.sleep(20)\n",
    "    ele.click()\n",
    "    soup = BeautifulSoup(driver.page_source, \"html.parser\")\n",
    "    price = soup.find_all(class_=\"product-price\")[0]\n",
    "    print(f'''Price for size:{size_list[i]} is {price.span.text}''')"
   ]
  },
  {
   "cell_type": "code",
   "execution_count": null,
   "id": "62df9c31",
   "metadata": {},
   "outputs": [],
   "source": []
  }
 ],
 "metadata": {
  "kernelspec": {
   "display_name": "Python 3 (ipykernel)",
   "language": "python",
   "name": "python3"
  },
  "language_info": {
   "codemirror_mode": {
    "name": "ipython",
    "version": 3
   },
   "file_extension": ".py",
   "mimetype": "text/x-python",
   "name": "python",
   "nbconvert_exporter": "python",
   "pygments_lexer": "ipython3",
   "version": "3.9.7"
  }
 },
 "nbformat": 4,
 "nbformat_minor": 5
}
